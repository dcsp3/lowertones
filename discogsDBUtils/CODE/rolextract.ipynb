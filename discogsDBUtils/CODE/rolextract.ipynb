{
 "cells": [
  {
   "cell_type": "code",
   "execution_count": 12,
   "metadata": {},
   "outputs": [
    {
     "name": "stdout",
     "output_type": "stream",
     "text": [
      "Unique roles have been written to 'roles_output.txt'.\n"
     ]
    }
   ],
   "source": [
    "import re\n",
    "\n",
    "# Function to extract text within <role> </role> tags\n",
    "def extract_roles(xml_file):\n",
    "    with open(xml_file, 'r') as f:\n",
    "        xml_content = f.read()\n",
    "\n",
    "    # Extracting text between <role> and </role> tags as plain text\n",
    "    roles_match = re.findall(r'<role>(.*?)</role>', xml_content, re.DOTALL)\n",
    "    if roles_match:\n",
    "        roles_text = \", \".join(roles_match)  # Joining all matches with a comma separator\n",
    "        return roles_text\n",
    "    else:\n",
    "        return None\n",
    "\n",
    "# Function to process roles text\n",
    "def process_roles(roles_text):\n",
    "    roles_list = []\n",
    "    \n",
    "    # Splitting by \",\" and processing each role\n",
    "    roles = roles_text.split(\",\")\n",
    "    for role in roles:\n",
    "        # Removing text after \"[\" and \"]\"\n",
    "        role = role.split(\"[\")[0].split(\"]\")[0].strip()\n",
    "        # Replacing \"-\" with spaces\n",
    "        role = role.replace(\"-\", \" \")\n",
    "        # Replacing \"&amp;\" with \"&\"\n",
    "        role = role.replace(\"&amp;\", \"&\")\n",
    "        if role not in roles_list and role != '':\n",
    "            roles_list.append(role)\n",
    "    \n",
    "    return roles_list\n",
    "\n",
    "# Main function\n",
    "def main(xml_file):\n",
    "    roles_text = extract_roles(xml_file)\n",
    "    if roles_text:\n",
    "        roles_list = process_roles(roles_text)\n",
    "        output_file_path = 'roles_output.txt'\n",
    "        with open(output_file_path, 'w') as output_file:\n",
    "            for role in roles_list:\n",
    "                output_file.write(role + '\\n')\n",
    "        print(f\"Unique roles have been written to '{output_file_path}'.\")\n",
    "    else:\n",
    "        print(\"No roles found in the XML.\")\n",
    "\n",
    "# Provide the path to XML file here\n",
    "xml_file_path = 'input1.xml'\n",
    "main(xml_file_path)\n"
   ]
  },
  {
   "cell_type": "code",
   "execution_count": null,
   "metadata": {},
   "outputs": [],
   "source": []
  }
 ],
 "metadata": {
  "kernelspec": {
   "display_name": "S2TENV",
   "language": "python",
   "name": "python3"
  },
  "language_info": {
   "codemirror_mode": {
    "name": "ipython",
    "version": 3
   },
   "file_extension": ".py",
   "mimetype": "text/x-python",
   "name": "python",
   "nbconvert_exporter": "python",
   "pygments_lexer": "ipython3",
   "version": "3.9.12"
  }
 },
 "nbformat": 4,
 "nbformat_minor": 2
}
