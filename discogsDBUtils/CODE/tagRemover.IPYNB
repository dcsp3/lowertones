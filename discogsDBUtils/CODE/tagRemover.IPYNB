{
 "cells": [
  {
   "cell_type": "code",
   "execution_count": 1,
   "metadata": {},
   "outputs": [],
   "source": [
    "from lxml import etree"
   ]
  },
  {
   "cell_type": "code",
   "execution_count": 2,
   "metadata": {},
   "outputs": [],
   "source": [
    "def remove_tags(xml_file, tags):\n",
    "    context = etree.iterparse(xml_file, events=('start', 'end'))\n",
    "\n",
    "    for event, elem in context:\n",
    "        if event == 'end' and elem.tag in tags:\n",
    "            elem.clear()  # Remove the content between the tags\n",
    "            for ancestor in elem.xpath('ancestor-or-self::*'):\n",
    "                while ancestor.getprevious() is not None:\n",
    "                    del ancestor.getparent()[0]\n",
    "            del elem\n"
   ]
  },
  {
   "cell_type": "code",
   "execution_count": 3,
   "metadata": {},
   "outputs": [],
   "source": [
    "input_xml_file = \"discogs_20240201_releases.xml\"\n",
    "output_xml_file = \"output.xml\"\n",
    "\n",
    "# Tags to remove content between\n",
    "tags_to_remove = [\"notes\", \"videos\", \"images\"]\n",
    "\n"
   ]
  },
  {
   "cell_type": "code",
   "execution_count": 4,
   "metadata": {},
   "outputs": [
    {
     "ename": "KeyboardInterrupt",
     "evalue": "",
     "output_type": "error",
     "traceback": [
      "\u001b[1;31m---------------------------------------------------------------------------\u001b[0m",
      "\u001b[1;31mKeyboardInterrupt\u001b[0m                         Traceback (most recent call last)",
      "Input \u001b[1;32mIn [4]\u001b[0m, in \u001b[0;36m<cell line: 1>\u001b[1;34m()\u001b[0m\n\u001b[1;32m----> 1\u001b[0m \u001b[43mremove_tags\u001b[49m\u001b[43m(\u001b[49m\u001b[43minput_xml_file\u001b[49m\u001b[43m,\u001b[49m\u001b[43m \u001b[49m\u001b[43mtags_to_remove\u001b[49m\u001b[43m)\u001b[49m\n\u001b[0;32m      2\u001b[0m \u001b[38;5;66;03m# Write the modified XML to a new file\u001b[39;00m\n\u001b[0;32m      3\u001b[0m \u001b[38;5;28;01mwith\u001b[39;00m \u001b[38;5;28mopen\u001b[39m(output_xml_file, \u001b[38;5;124m\"\u001b[39m\u001b[38;5;124mwb\u001b[39m\u001b[38;5;124m\"\u001b[39m) \u001b[38;5;28;01mas\u001b[39;00m output_file:\n",
      "Input \u001b[1;32mIn [2]\u001b[0m, in \u001b[0;36mremove_tags\u001b[1;34m(xml_file, tags)\u001b[0m\n\u001b[0;32m      1\u001b[0m \u001b[38;5;28;01mdef\u001b[39;00m \u001b[38;5;21mremove_tags\u001b[39m(xml_file, tags):\n\u001b[0;32m      2\u001b[0m     context \u001b[38;5;241m=\u001b[39m etree\u001b[38;5;241m.\u001b[39miterparse(xml_file, events\u001b[38;5;241m=\u001b[39m(\u001b[38;5;124m'\u001b[39m\u001b[38;5;124mstart\u001b[39m\u001b[38;5;124m'\u001b[39m, \u001b[38;5;124m'\u001b[39m\u001b[38;5;124mend\u001b[39m\u001b[38;5;124m'\u001b[39m))\n\u001b[1;32m----> 4\u001b[0m     \u001b[38;5;28;01mfor\u001b[39;00m event, elem \u001b[38;5;129;01min\u001b[39;00m context:\n\u001b[0;32m      5\u001b[0m         \u001b[38;5;28;01mif\u001b[39;00m event \u001b[38;5;241m==\u001b[39m \u001b[38;5;124m'\u001b[39m\u001b[38;5;124mend\u001b[39m\u001b[38;5;124m'\u001b[39m \u001b[38;5;129;01mand\u001b[39;00m elem\u001b[38;5;241m.\u001b[39mtag \u001b[38;5;129;01min\u001b[39;00m tags:\n\u001b[0;32m      6\u001b[0m             elem\u001b[38;5;241m.\u001b[39mclear()  \u001b[38;5;66;03m# Remove the content between the tags\u001b[39;00m\n",
      "\u001b[1;31mKeyboardInterrupt\u001b[0m: "
     ]
    }
   ],
   "source": [
    "remove_tags(input_xml_file, tags_to_remove)\n",
    "# Write the modified XML to a new file\n",
    "with open(output_xml_file, \"wb\") as output_file:\n",
    "    context = etree.iterparse(input_xml_file, events=('start', 'end'))\n",
    "    for event, elem in context:\n",
    "        if event == 'end':\n",
    "            output_file.write(etree.tostring(elem, encoding=\"utf-8\", xml_declaration=True))\n",
    "            elem.clear()  # Clean up memory"
   ]
  },
  {
   "cell_type": "code",
   "execution_count": null,
   "metadata": {},
   "outputs": [],
   "source": []
  }
 ],
 "metadata": {
  "kernelspec": {
   "display_name": "S2TENV",
   "language": "python",
   "name": "python3"
  },
  "language_info": {
   "codemirror_mode": {
    "name": "ipython",
    "version": 3
   },
   "file_extension": ".py",
   "mimetype": "text/x-python",
   "name": "python",
   "nbconvert_exporter": "python",
   "pygments_lexer": "ipython3",
   "version": "3.9.12"
  }
 },
 "nbformat": 4,
 "nbformat_minor": 2
}
