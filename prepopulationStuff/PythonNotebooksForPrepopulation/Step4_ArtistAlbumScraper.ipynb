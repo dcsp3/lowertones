{
 "cells": [
  {
   "cell_type": "code",
   "execution_count": null,
   "metadata": {},
   "outputs": [],
   "source": [
    "# this code makes a call to the spotify API and gets the all the albums for each artist in the list and saves them to a JSON file\n",
    "import os\n",
    "import json\n",
    "import requests\n",
    "import time\n",
    "\n",
    "def load_artist_ids(file_path):\n",
    "    try:\n",
    "        with open(file_path, 'r') as file:\n",
    "            return json.load(file)\n",
    "    except FileNotFoundError:\n",
    "        return []\n",
    "\n",
    "def get_artist_albums(artist_id, access_token, max_requests=10, max_time=60):\n",
    "    url = f'https://api.spotify.com/v1/artists/{artist_id}/albums'\n",
    "    headers = {'Authorization': f'Bearer {access_token}'}\n",
    "    params = {'limit': 50}\n",
    "    albums = []\n",
    "    start_time = time.time()\n",
    "    while len(albums) < max_requests and time.time() - start_time < max_time:\n",
    "        response = requests.get(url, headers=headers, params=params)\n",
    "        if response.status_code == 200:\n",
    "            data = response.json()\n",
    "            albums.extend(data['items'])\n",
    "            total = data['total']\n",
    "            params['offset'] = len(albums)\n",
    "            if len(albums) >= total:\n",
    "                break\n",
    "        else:\n",
    "            print(f\"Failed to get albums for {artist_id}. Status code: {response.status_code}\")\n",
    "            print(response.headers)\n",
    "            return []\n",
    "    return albums\n",
    "\n",
    "# Replace 'YOUR_ACCESS_TOKEN' with your actual Spotify API access token and the path to the file containing artist IDs and the output directory\n",
    "artist_ids_file_path = 'relatedartistslist.txt'\n",
    "output_directory = 'artist_albums'\n",
    "access_token = 'REPLACE_WITH_YOUR_ACCESS_TOKEN'\n",
    "\n",
    "os.makedirs(output_directory, exist_ok=True)\n",
    "artist_ids = load_artist_ids(artist_ids_file_path)\n",
    "for artist_id in artist_ids:\n",
    "    artist_albums = get_artist_albums(artist_id, access_token)\n",
    "    with open(f'{output_directory}/{artist_id}.json', 'w') as output_file:\n",
    "        json.dump(artist_albums, output_file)\n",
    "print(\"Artist albums data has been saved to\", output_directory)"
   ]
  }
 ],
 "metadata": {
  "language_info": {
   "name": "python"
  }
 },
 "nbformat": 4,
 "nbformat_minor": 2
}
