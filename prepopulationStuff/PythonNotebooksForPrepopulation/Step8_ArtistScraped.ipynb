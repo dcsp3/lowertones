{
 "cells": [
  {
   "cell_type": "code",
   "execution_count": null,
   "metadata": {},
   "outputs": [],
   "source": [
    "import requests\n",
    "import json\n",
    "\n",
    "# Function to split the list of IDs into chunks\n",
    "def split_list(lst, n=100):\n",
    "    \"\"\"Yield successive n-sized chunks from lst.\"\"\"\n",
    "    for i in range(0, len(lst), n):\n",
    "        yield lst[i:i + n]\n",
    "\n",
    "# Function to make the Spotify API call\n",
    "def fetch_artists_data(ids, token):\n",
    "    \"\"\"Fetch artists data from Spotify and return the response JSON.\"\"\"\n",
    "    headers = {\n",
    "        'Authorization': f'Bearer {token}',\n",
    "    }\n",
    "    # Join the IDs with a comma for the API request\n",
    "    ids_param = ','.join(ids)\n",
    "    print(ids_param)\n",
    "    response = requests.get(f'https://api.spotify.com/v1/artists?ids={ids_param}', headers=headers)\n",
    "    return response.json()\n",
    "\n",
    "\n",
    "# Load the Spotify artist IDs from a file\n",
    "with open('C:\\\\Users\\\\Music\\\\Desktop\\\\PROJECTS\\\\Spotify Project\\\\96kArtistIDList.txt', 'r') as file:\n",
    "    ids = file.read().splitlines()\n",
    "\n",
    "token = 'BQAui-mmnKVGYXNb32vg-dlx9eH2Y9MzwbdgEEPN1X6C1L2hMRL1YFwgVh4yc1kx3HnQa16KV2l9GY7ESShFI3VxnsBbuAUZurvFIAYI5e5ImP7m3lcOWwmD2xIYHxEn63NIh0ykRn7YFkv0AoS6sFcv6wOoDD-ukkCJEOG--Bvq4cMAc1_tWCPbnOnCpwjyr994wG6W0LHuVGMA78buffkSEkia8f2Zzs7InXWVvPhWse7WQKzBkXYUoCZkL5FHoansJXsL-blUqtdZFgy5_nvJq-1TaNawX3oisBjD'\n",
    "\n",
    "# Split the IDs into chunks of 100\n",
    "id_chunks = list(split_list(ids, 50))\n",
    "\n",
    "for i, chunk in enumerate(id_chunks):\n",
    "    response_json = fetch_artists_data(chunk, token)\n",
    "    \n",
    "    # Check if the response contains an error\n",
    "    if 'error' in response_json:\n",
    "        print(f\"Error fetching data for chunk {i+1}: {response_json['error']['message']}\")\n",
    "    else:\n",
    "        # Save each chunk response into a separate JSON file\n",
    "        with open(f'artists_data_chunk_{i+1}.json', 'w') as outfile:\n",
    "            json.dump(response_json, outfile)\n",
    "\n",
    "        print(f'Successfully fetched and saved data for chunk {i+1}')\n"
   ]
  },
  {
   "cell_type": "code",
   "execution_count": null,
   "metadata": {},
   "outputs": [],
   "source": []
  }
 ],
 "metadata": {
  "kernelspec": {
   "display_name": "S2TENV",
   "language": "python",
   "name": "python3"
  },
  "language_info": {
   "codemirror_mode": {
    "name": "ipython",
    "version": 3
   },
   "file_extension": ".py",
   "mimetype": "text/x-python",
   "name": "python",
   "nbconvert_exporter": "python",
   "pygments_lexer": "ipython3",
   "version": "3.9.18"
  }
 },
 "nbformat": 4,
 "nbformat_minor": 2
}
