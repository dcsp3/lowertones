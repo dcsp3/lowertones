{
 "cells": [
  {
   "cell_type": "code",
   "execution_count": null,
   "metadata": {},
   "outputs": [],
   "source": [
    "# the following code calls from Spotify to get the related artists for each artist in the list, and save the results to a JSON file.\n",
    "import json\n",
    "import requests\n",
    "\n",
    "def load_artist_ids(file_path):\n",
    "    try:\n",
    "        with open(file_path, 'r') as file:\n",
    "            return json.load(file)\n",
    "    except FileNotFoundError:\n",
    "        return []\n",
    "\n",
    "def get_related_artists(artist_id, access_token):\n",
    "    url = f'https://api.spotify.com/v1/artists/{artist_id}/related-artists'\n",
    "    headers = {'Authorization': f'Bearer {access_token}'}\n",
    "    response = requests.get(url, headers=headers)\n",
    "    if response.status_code == 200:\n",
    "        return response.json().get('artists', [])\n",
    "    else:\n",
    "        print(f\"Failed to get related artists for {artist_id}. Status code: {response.status_code}\")\n",
    "        print(response.headers)\n",
    "        return []\n",
    "\n",
    "# Replace 'YOUR_ACCESS_TOKEN' with your actual Spotify API access token and the file paths with the correct paths\n",
    "artist_ids_file_path = 'merged_artist_ids_list.txt'\n",
    "output_file_path = 'relatedartists.json'\n",
    "access_token = \"REPLACE_WITH_YOUR_ACCESS_TOKEN\"\n",
    "\n",
    "artist_ids = load_artist_ids(artist_ids_file_path)\n",
    "related_artists_dict = {}\n",
    "for artist_id in artist_ids:\n",
    "    related_artists = get_related_artists(artist_id, access_token)\n",
    "    related_artists_dict[artist_id] = related_artists\n",
    "with open(output_file_path, 'w') as output_file:\n",
    "    json.dump(related_artists_dict, output_file)\n",
    "print(\"Related artists data has been saved to\", output_file_path)"
   ]
  },
  {
   "cell_type": "code",
   "execution_count": null,
   "metadata": {},
   "outputs": [],
   "source": [
    "# this code extracts the artist ids from the json file and saves them to a text file.\n",
    "import re\n",
    "import json\n",
    "\n",
    "def extract_ids_from_json(json_text):\n",
    "    pattern = r'\"id\":\\s*\"([^\"]*)\"'\n",
    "    return re.findall(pattern, json_text)\n",
    "\n",
    "# Replace the file paths with the correct paths\n",
    "input_file_path = 'relatedartists.json'\n",
    "output_file_path = 'relatedartistslist.txt'\n",
    "\n",
    "with open(input_file_path, 'r') as input_file:\n",
    "    json_text = input_file.read()\n",
    "id_list = extract_ids_from_json(json_text)\n",
    "with open(output_file_path, 'w') as output_file:\n",
    "    for id_value in id_list:\n",
    "        output_file.write(id_value + '\\n')\n",
    "print(f\"Extracted IDs and saved to {output_file_path}\")"
   ]
  }
 ],
 "metadata": {
  "kernelspec": {
   "display_name": "S2TENV",
   "language": "python",
   "name": "python3"
  },
  "language_info": {
   "codemirror_mode": {
    "name": "ipython",
    "version": 3
   },
   "file_extension": ".py",
   "mimetype": "text/x-python",
   "name": "python",
   "nbconvert_exporter": "python",
   "pygments_lexer": "ipython3",
   "version": "3.9.18"
  }
 },
 "nbformat": 4,
 "nbformat_minor": 2
}
