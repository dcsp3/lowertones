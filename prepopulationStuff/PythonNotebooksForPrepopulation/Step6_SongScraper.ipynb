{
 "cells": [
  {
   "cell_type": "code",
   "execution_count": 5,
   "metadata": {},
   "outputs": [],
   "source": [
    "import os\n",
    "import json\n",
    "\n",
    "def find_json_files(directory):\n",
    "    json_files = []\n",
    "    for root, dirs, files in os.walk(directory):\n",
    "        for file in files:\n",
    "            if file.endswith('.json'):\n",
    "                json_files.append(os.path.join(root, file))\n",
    "    return json_files\n",
    "\n",
    "def extract_track_ids(json_files):\n",
    "    track_ids = []\n",
    "    for json_file in json_files:\n",
    "        with open(json_file, 'r') as file:\n",
    "            data = json.load(file)\n",
    "            albums = data.get('albums', [])\n",
    "            for album in albums:\n",
    "                tracks = album.get('tracks', {}).get('items', [])\n",
    "                print(\"album: \", album.get('name'), \"tracks: \", len(tracks), \"tracks: \", tracks)\n",
    "                for track in tracks:\n",
    "                    track_ids.append(track.get('id'))\n",
    "    return track_ids\n",
    "\n",
    "# Specify the folder path here\n",
    "folder_path = 'C:\\\\Users\\\\Music\\\\Desktop\\\\PROJECTS\\\\Spotify Project\\\\SCRAPED_DATA\\\\ALBUMS'\n",
    "\n",
    "# Find all JSON files within the folder and its subfolders\n",
    "json_files = find_json_files(folder_path)\n",
    "\n",
    "# Extract all track IDs from these JSON files\n",
    "track_ids = extract_track_ids(json_files)\n",
    "\n",
    "unique_track_ids = list(set(track_ids))\n",
    "\n",
    "# Save unique track IDs to a file\n",
    "with open('unique_track_ids.txt', 'w') as f:\n",
    "    for track_id in unique_track_ids:\n",
    "        f.write(f\"{track_id}\\n\")\n",
    "\n",
    "print(\"Unique track IDs have been saved to unique_track_ids.txt.\")\n"
   ]
  },
  {
   "cell_type": "code",
   "execution_count": null,
   "metadata": {},
   "outputs": [],
   "source": []
  }
 ],
 "metadata": {
  "kernelspec": {
   "display_name": "S2TENV",
   "language": "python",
   "name": "python3"
  },
  "language_info": {
   "codemirror_mode": {
    "name": "ipython",
    "version": 3
   },
   "file_extension": ".py",
   "mimetype": "text/x-python",
   "name": "python",
   "nbconvert_exporter": "python",
   "pygments_lexer": "ipython3",
   "version": "3.9.18"
  }
 },
 "nbformat": 4,
 "nbformat_minor": 2
}
