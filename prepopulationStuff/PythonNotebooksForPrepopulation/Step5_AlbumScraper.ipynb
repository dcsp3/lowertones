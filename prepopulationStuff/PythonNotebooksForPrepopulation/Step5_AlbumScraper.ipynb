{
 "cells": [
  {
   "cell_type": "code",
   "execution_count": null,
   "metadata": {},
   "outputs": [],
   "source": [
    "# This script gets all the unique album IDs\n",
    "import os\n",
    "import json\n",
    "\n",
    "folder_path = 'C:\\\\Users\\\\Music\\\\Desktop\\\\PROJECTS\\\\Spotify Project\\\\artist_albums\\\\dak'\n",
    "unique_ids = set() \n",
    "\n",
    "for filename in os.listdir(folder_path):\n",
    "    if filename.endswith('.json'):  \n",
    "        file_path = os.path.join(folder_path, filename)\n",
    "        with open(file_path, 'r') as file:\n",
    "            data = json.load(file)\n",
    "            for item in data:\n",
    "                unique_ids.add(item['id']) \n",
    "\n",
    "output_file_path = os.path.join(folder_path, 'unique_ids.txt')\n",
    "with open(output_file_path, 'w') as output_file:\n",
    "    for id in unique_ids:\n",
    "        output_file.write(id + '\\n')\n",
    "\n",
    "print(f\"Unique IDs have been written to {output_file_path}\")"
   ]
  },
  {
   "cell_type": "code",
   "execution_count": null,
   "metadata": {},
   "outputs": [],
   "source": [
    "# This script merges the album IDs from the smaller lists, removing duplicates\n",
    "def load_list_from_file(file_path):\n",
    "    try:\n",
    "        with open(file_path, 'r') as file:\n",
    "            # Reads each line into a list, stripping newline characters\n",
    "            return [line.strip() for line in file]\n",
    "    except FileNotFoundError:\n",
    "        return []\n",
    "\n",
    "file_path1 = 'dak_unique_ids.txt'\n",
    "file_path2 = 'rory_unique_ids.txt'\n",
    "file_path3 = 'will_unique_ids.txt'\n",
    "list1 = load_list_from_file(file_path1)\n",
    "list2 = load_list_from_file(file_path2)\n",
    "list3 = load_list_from_file(file_path3)\n",
    "merged_list = list(set(list1 + list2 + list3))\n",
    "output_file_path = 'merged_artist_ids_list.txt'\n",
    "with open(output_file_path, 'w') as output_file:\n",
    "    for id in merged_list:\n",
    "        output_file.write(id + '\\n') \n",
    "\n",
    "print(merged_list)"
   ]
  },
  {
   "cell_type": "code",
   "execution_count": 3,
   "metadata": {},
   "outputs": [
    {
     "name": "stdout",
     "output_type": "stream",
     "text": [
      "{'www-authenticate': 'Bearer realm=\"spotify\", error=\"invalid_token\", error_description=\"The access token expired\"', 'access-control-allow-origin': '*', 'access-control-allow-headers': 'Accept, App-Platform, Authorization, Content-Type, Origin, Retry-After, Spotify-App-Version, X-Cloud-Trace-Context, client-token, content-access-token', 'access-control-allow-methods': 'GET, POST, OPTIONS, PUT, DELETE, PATCH', 'access-control-allow-credentials': 'true', 'access-control-max-age': '604800', 'content-type': 'application/json', 'content-encoding': 'gzip', 'strict-transport-security': 'max-age=31536000', 'x-content-type-options': 'nosniff', 'date': 'Tue, 12 Mar 2024 12:29:50 GMT', 'server': 'envoy', 'Via': 'HTTP/2 edgeproxy, 1.1 google', 'Alt-Svc': 'h3=\":443\"; ma=2592000,h3-29=\":443\"; ma=2592000', 'Transfer-Encoding': 'chunked'}\n"
     ]
    },
    {
     "ename": "AttributeError",
     "evalue": "'str' object has no attribute 'error'",
     "output_type": "error",
     "traceback": [
      "\u001b[1;31m---------------------------------------------------------------------------\u001b[0m",
      "\u001b[1;31mAttributeError\u001b[0m                            Traceback (most recent call last)",
      "Input \u001b[1;32mIn [3]\u001b[0m, in \u001b[0;36m<cell line: 37>\u001b[1;34m()\u001b[0m\n\u001b[0;32m     37\u001b[0m \u001b[38;5;28;01mfor\u001b[39;00m i \u001b[38;5;129;01min\u001b[39;00m \u001b[38;5;28mrange\u001b[39m(\u001b[38;5;241m0\u001b[39m, \u001b[38;5;28mlen\u001b[39m(album_ids), \u001b[38;5;241m20\u001b[39m):\n\u001b[0;32m     38\u001b[0m     chunk \u001b[38;5;241m=\u001b[39m album_ids[i:i\u001b[38;5;241m+\u001b[39m\u001b[38;5;241m20\u001b[39m]\n\u001b[1;32m---> 39\u001b[0m     albums_info \u001b[38;5;241m=\u001b[39m \u001b[43mget_albums_info\u001b[49m\u001b[43m(\u001b[49m\u001b[43mchunk\u001b[49m\u001b[43m,\u001b[49m\u001b[43m \u001b[49m\u001b[43maccess_token\u001b[49m\u001b[43m)\u001b[49m\n\u001b[0;32m     40\u001b[0m     \u001b[38;5;28;01mif\u001b[39;00m albums_info:\n\u001b[0;32m     41\u001b[0m         \u001b[38;5;66;03m# Consider timestamp or some unique attribute for filename uniqueness if required\u001b[39;00m\n\u001b[0;32m     42\u001b[0m         timestamp \u001b[38;5;241m=\u001b[39m \u001b[38;5;28mint\u001b[39m(time\u001b[38;5;241m.\u001b[39mtime())\n",
      "Input \u001b[1;32mIn [3]\u001b[0m, in \u001b[0;36mget_albums_info\u001b[1;34m(album_ids, access_token, market)\u001b[0m\n\u001b[0;32m     22\u001b[0m \u001b[38;5;28;01melse\u001b[39;00m:\n\u001b[0;32m     23\u001b[0m     \u001b[38;5;28mprint\u001b[39m(response\u001b[38;5;241m.\u001b[39mheaders)\n\u001b[1;32m---> 24\u001b[0m     \u001b[38;5;28mprint\u001b[39m(\u001b[38;5;124mf\u001b[39m\u001b[38;5;124m\"\u001b[39m\u001b[38;5;124mFailed to retrieve albums information. Status code: \u001b[39m\u001b[38;5;132;01m{\u001b[39;00mresponse\u001b[38;5;241m.\u001b[39mstatus_code\u001b[38;5;132;01m}\u001b[39;00m\u001b[38;5;124m, Response: \u001b[39m\u001b[38;5;132;01m{\u001b[39;00mresponse\u001b[38;5;241m.\u001b[39mtext\u001b[38;5;241m.\u001b[39merror\u001b[38;5;241m.\u001b[39mmessage\u001b[38;5;132;01m}\u001b[39;00m\u001b[38;5;124m\"\u001b[39m)\n\u001b[0;32m     25\u001b[0m     \u001b[38;5;28;01mreturn\u001b[39;00m \u001b[38;5;28;01mNone\u001b[39;00m\n",
      "\u001b[1;31mAttributeError\u001b[0m: 'str' object has no attribute 'error'"
     ]
    }
   ],
   "source": [
    "# This script calls the Spotify API to get the album details for each album ID in batches of 20\n",
    "import requests\n",
    "import json\n",
    "import os\n",
    "import time\n",
    "\n",
    "def load_album_ids(file_path):\n",
    "    try:\n",
    "        with open(file_path, 'r') as file:\n",
    "            return json.load(file)\n",
    "    except FileNotFoundError:\n",
    "        print(\"File not found.\")\n",
    "        return []\n",
    "\n",
    "def get_albums_info(album_ids, access_token, market='US'):\n",
    "    url = 'https://api.spotify.com/v1/albums'\n",
    "    headers = {'Authorization': f'Bearer {access_token}'}\n",
    "    params = {'ids': ','.join(album_ids), 'market': market}\n",
    "    response = requests.get(url, headers=headers, params=params)\n",
    "    if response.status_code == 200:\n",
    "        return response.json()\n",
    "    else:\n",
    "        print(response.headers)\n",
    "        print(f\"Failed to retrieve albums information. Status code: {response.status_code}, Response: {response.text}\")\n",
    "        return None\n",
    "\n",
    "# Your Spotify access token and file paths\n",
    "access_token = 'BQCbLKR5SmiJis2qL_Rg_KF2S8vVx1ozYrA5Csm0qja_b2qUMzEslFjLsYgQOPUwtdZp3MIrbmLfgAQq1jdwoc_-1h94ihHpmqQ42_9WA0YypNWMFXypg0aB2p-aQgX7eAWoA6o18ClXnkHWKEG1kTOZYohrhaQwvn_Rd70-d83A5YfPLzldihftjPD7EchkzIMkVnmBa9UFWE35a2cu6qOqbkwCvvR_xD6tgJkAQGfHOJvd7U9cav-QdgSqv2yxq2wipRExABgoBq0-avPXD3u8rOUC3ljJTnoXv6I_'  # Replace with your actual Spotify access token\n",
    "album_ids_file_path = 'merged_artist_ids_list.txt'  # The path to your file containing album IDs\n",
    "output_directory = 'album_information'\n",
    "os.makedirs(output_directory, exist_ok=True)\n",
    "\n",
    "# Load the album IDs\n",
    "album_ids = load_album_ids(album_ids_file_path)\n",
    "\n",
    "# Process the list in chunks of 20 IDs at a time\n",
    "for i in range(0, len(album_ids), 20):\n",
    "    chunk = album_ids[i:i+20]\n",
    "    albums_info = get_albums_info(chunk, access_token)\n",
    "    if albums_info:\n",
    "        # Consider timestamp or some unique attribute for filename uniqueness if required\n",
    "        timestamp = int(time.time())\n",
    "        with open(f'{output_directory}/albums_info_{i}-{i+len(chunk)}_{timestamp}.json', 'w') as output_file:\n",
    "            json.dump(albums_info, output_file)\n",
    "\n",
    "print(\"Albums information has been saved.\")\n"
   ]
  },
  {
   "cell_type": "code",
   "execution_count": null,
   "metadata": {},
   "outputs": [],
   "source": []
  }
 ],
 "metadata": {
  "kernelspec": {
   "display_name": "S2TENV",
   "language": "python",
   "name": "python3"
  },
  "language_info": {
   "codemirror_mode": {
    "name": "ipython",
    "version": 3
   },
   "file_extension": ".py",
   "mimetype": "text/x-python",
   "name": "python",
   "nbconvert_exporter": "python",
   "pygments_lexer": "ipython3",
   "version": "3.9.18"
  }
 },
 "nbformat": 4,
 "nbformat_minor": 2
}
