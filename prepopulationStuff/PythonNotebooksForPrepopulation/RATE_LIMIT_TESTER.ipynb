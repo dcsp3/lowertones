{
 "cells": [
  {
   "cell_type": "code",
   "execution_count": 4,
   "metadata": {},
   "outputs": [
    {
     "name": "stdout",
     "output_type": "stream",
     "text": [
      "Testing with 170 calls per minute:\n",
      "Call 1: Status Code - 429\n",
      "Rate limit exceeded. Retrying with exponential backoff.\n",
      "{'cache-control': 'private, max-age=0', 'retry-after': '20793', 'access-control-allow-origin': '*', 'access-control-allow-headers': 'Accept, App-Platform, Authorization, Content-Type, Origin, Retry-After, Spotify-App-Version, X-Cloud-Trace-Context, client-token, content-access-token', 'access-control-allow-methods': 'GET, POST, OPTIONS, PUT, DELETE, PATCH', 'access-control-allow-credentials': 'true', 'access-control-max-age': '604800', 'content-encoding': 'gzip', 'strict-transport-security': 'max-age=31536000', 'x-content-type-options': 'nosniff', 'date': 'Thu, 25 Apr 2024 16:07:21 GMT', 'server': 'envoy', 'Via': 'HTTP/2 edgeproxy, 1.1 google', 'Alt-Svc': 'h3=\":443\"; ma=2592000,h3-29=\":443\"; ma=2592000', 'Transfer-Encoding': 'chunked'}\n"
     ]
    },
    {
     "ename": "KeyboardInterrupt",
     "evalue": "",
     "output_type": "error",
     "traceback": [
      "\u001b[1;31m---------------------------------------------------------------------------\u001b[0m",
      "\u001b[1;31mKeyboardInterrupt\u001b[0m                         Traceback (most recent call last)",
      "Input \u001b[1;32mIn [4]\u001b[0m, in \u001b[0;36m<cell line: 32>\u001b[1;34m()\u001b[0m\n\u001b[0;32m     41\u001b[0m \u001b[38;5;28;01mfor\u001b[39;00m calls_per_minute \u001b[38;5;129;01min\u001b[39;00m \u001b[38;5;28mrange\u001b[39m(initial_calls_per_minute, \u001b[38;5;241m221\u001b[39m, \u001b[38;5;241m10\u001b[39m):\n\u001b[0;32m     42\u001b[0m     \u001b[38;5;28mprint\u001b[39m(\u001b[38;5;124mf\u001b[39m\u001b[38;5;124m\"\u001b[39m\u001b[38;5;124mTesting with \u001b[39m\u001b[38;5;132;01m{\u001b[39;00mcalls_per_minute\u001b[38;5;132;01m}\u001b[39;00m\u001b[38;5;124m calls per minute:\u001b[39m\u001b[38;5;124m\"\u001b[39m)\n\u001b[1;32m---> 43\u001b[0m     \u001b[43mtest_rate_limit\u001b[49m\u001b[43m(\u001b[49m\u001b[43mspotify_api_key\u001b[49m\u001b[43m,\u001b[49m\u001b[43m \u001b[49m\u001b[43malbum_id_to_test\u001b[49m\u001b[43m,\u001b[49m\u001b[43m \u001b[49m\u001b[43mcalls_per_minute\u001b[49m\u001b[43m)\u001b[49m\n\u001b[0;32m     44\u001b[0m     \u001b[38;5;28mprint\u001b[39m(\u001b[38;5;124m\"\u001b[39m\u001b[38;5;124m=\u001b[39m\u001b[38;5;124m\"\u001b[39m \u001b[38;5;241m*\u001b[39m \u001b[38;5;241m50\u001b[39m)\n",
      "Input \u001b[1;32mIn [4]\u001b[0m, in \u001b[0;36mtest_rate_limit\u001b[1;34m(api_key, album_id, num_calls_per_minute)\u001b[0m\n\u001b[0;32m     24\u001b[0m     \u001b[38;5;66;03m# Implement exponential backoff, starting with 2 seconds\u001b[39;00m\n\u001b[0;32m     25\u001b[0m     \u001b[38;5;28mprint\u001b[39m(response\u001b[38;5;241m.\u001b[39mheaders)\n\u001b[1;32m---> 26\u001b[0m     \u001b[43mtime\u001b[49m\u001b[38;5;241;43m.\u001b[39;49m\u001b[43msleep\u001b[49m\u001b[43m(\u001b[49m\u001b[38;5;241;43m2\u001b[39;49m\u001b[43m \u001b[49m\u001b[38;5;241;43m*\u001b[39;49m\u001b[38;5;241;43m*\u001b[39;49m\u001b[43m \u001b[49m\u001b[43mcalls\u001b[49m\u001b[43m)\u001b[49m\n\u001b[0;32m     27\u001b[0m     \u001b[38;5;28;01mcontinue\u001b[39;00m\n\u001b[0;32m     29\u001b[0m \u001b[38;5;66;03m# Wait for one minute divided by the number of calls per minute\u001b[39;00m\n",
      "\u001b[1;31mKeyboardInterrupt\u001b[0m: "
     ]
    }
   ],
   "source": [
    "# Rate Limit Test for the Spotify API using Exponential Backoff\n",
    "import requests\n",
    "import time\n",
    "\n",
    "def test_rate_limit(api_key, album_id, num_calls_per_minute):\n",
    "    base_url = \"https://api.spotify.com/v1/me/playlists?limit=50\"\n",
    "    headers = {\n",
    "        \"Authorization\": f\"Bearer {api_key}\",\n",
    "    }\n",
    "    params = {\n",
    "        \"id\": album_id,\n",
    "    }\n",
    "\n",
    "    for calls in range(1, num_calls_per_minute + 1):\n",
    "        # Make the API call\n",
    "        response = requests.get(base_url, headers=headers, params=params)\n",
    "\n",
    "        # Print information about the request\n",
    "        print(f\"Call {calls}: Status Code - {response.status_code}\")\n",
    "\n",
    "        # Check for rate limit exceeded (429) response\n",
    "        if response.status_code == 429:\n",
    "            print(\"Rate limit exceeded. Retrying with exponential backoff.\")\n",
    "            # Implement exponential backoff, starting with 2 seconds\n",
    "            print(response.headers)\n",
    "            time.sleep(2 ** calls)\n",
    "            continue\n",
    "\n",
    "        # Wait for one minute divided by the number of calls per minute\n",
    "        time.sleep(60 / num_calls_per_minute)\n",
    "\n",
    "if __name__ == \"__main__\":\n",
    "    # Replace these values with your actual Spotify API key and album ID\n",
    "    spotify_api_key = \"BQAIfZtQA3aLvqXza99fIxxAfbZD-iYfWq7ksHJoMpdA6q7ldTB03aXqj9SA_kqzT8NIfccONQddN_nRWGphVAWuUkDfqgznsGcgTZ33qnqDGcpGtn1e8ziyDjd41Q5FS6BQi0yGTLw3U673KVtGnxLCjt2xUjrGL1kYSqY2Dd9Jc9s-J9i0m8MD5ovXvLANOwIdBBHIhEcTdfs6vP0V0SEk-isPvGs0ZVJFfhGQGEEwHFAIaENKFcWN662NSQ9SAucxEEubpwv1eRkZ861yYx5LY1UdiVH8jxTME7mo\"\n",
    "    album_id_to_test = \"7vEJAtP3KgKSpOHVgwm3Eh\"\n",
    "\n",
    "    # Number of calls per minute to start with\n",
    "    initial_calls_per_minute = 170\n",
    "\n",
    "    # Increase the number of calls per minute incrementally\n",
    "    for calls_per_minute in range(initial_calls_per_minute, 221, 10):\n",
    "        print(f\"Testing with {calls_per_minute} calls per minute:\")\n",
    "        test_rate_limit(spotify_api_key, album_id_to_test, calls_per_minute)\n",
    "        print(\"=\" * 50)\n"
   ]
  },
  {
   "cell_type": "code",
   "execution_count": null,
   "metadata": {},
   "outputs": [],
   "source": []
  }
 ],
 "metadata": {
  "kernelspec": {
   "display_name": "S2TENV",
   "language": "python",
   "name": "python3"
  },
  "language_info": {
   "codemirror_mode": {
    "name": "ipython",
    "version": 3
   },
   "file_extension": ".py",
   "mimetype": "text/x-python",
   "name": "python",
   "nbconvert_exporter": "python",
   "pygments_lexer": "ipython3",
   "version": "3.9.18"
  }
 },
 "nbformat": 4,
 "nbformat_minor": 2
}
