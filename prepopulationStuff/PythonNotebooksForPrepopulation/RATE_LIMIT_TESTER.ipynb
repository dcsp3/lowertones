{
 "cells": [
  {
   "cell_type": "code",
   "execution_count": null,
   "metadata": {},
   "outputs": [],
   "source": [
    "# Rate Limit Test for the Spotify API using Exponential Backoff\n",
    "import requests\n",
    "import time\n",
    "\n",
    "def test_rate_limit(api_key, album_id, num_calls_per_minute):\n",
    "    base_url = \"https://api.spotify.com/v1/albums/\"\n",
    "    headers = {\n",
    "        \"Authorization\": f\"Bearer {api_key}\",\n",
    "    }\n",
    "    params = {\n",
    "        \"id\": album_id,\n",
    "    }\n",
    "\n",
    "    for calls in range(1, num_calls_per_minute + 1):\n",
    "        # Make the API call\n",
    "        response = requests.get(base_url + album_id, headers=headers, params=params)\n",
    "\n",
    "        # Print information about the request\n",
    "        print(f\"Call {calls}: Status Code - {response.status_code}\")\n",
    "\n",
    "        # Check for rate limit exceeded (429) response\n",
    "        if response.status_code == 429:\n",
    "            print(\"Rate limit exceeded. Retrying with exponential backoff.\")\n",
    "            # Implement exponential backoff, starting with 2 seconds\n",
    "            time.sleep(2 ** calls)\n",
    "            continue\n",
    "\n",
    "        # Wait for one minute divided by the number of calls per minute\n",
    "        time.sleep(60 / num_calls_per_minute)\n",
    "\n",
    "if __name__ == \"__main__\":\n",
    "    # Replace these values with your actual Spotify API key and album ID\n",
    "    spotify_api_key = \"REPLACE_WITH_YOUR_API_KEY\"\n",
    "    album_id_to_test = \"7vEJAtP3KgKSpOHVgwm3Eh\"\n",
    "\n",
    "    # Number of calls per minute to start with\n",
    "    initial_calls_per_minute = 170\n",
    "\n",
    "    # Increase the number of calls per minute incrementally\n",
    "    for calls_per_minute in range(initial_calls_per_minute, 221, 10):\n",
    "        print(f\"Testing with {calls_per_minute} calls per minute:\")\n",
    "        test_rate_limit(spotify_api_key, album_id_to_test, calls_per_minute)\n",
    "        print(\"=\" * 50)\n"
   ]
  }
 ],
 "metadata": {
  "language_info": {
   "name": "python"
  }
 },
 "nbformat": 4,
 "nbformat_minor": 2
}
