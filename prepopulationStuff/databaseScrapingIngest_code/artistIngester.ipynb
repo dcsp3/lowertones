{
 "cells": [
  {
   "cell_type": "code",
   "execution_count": 17,
   "metadata": {},
   "outputs": [],
   "source": [
    "import json\n",
    "import psycopg2\n",
    "from datetime import date\n",
    "\n",
    "# Function to connect to the PostgreSQL database\n",
    "def connect_to_db():\n",
    "    try:\n",
    "        # Replace these values with your connection details\n",
    "        conn = psycopg2.connect(\n",
    "            dbname='postgres', \n",
    "            user='postgres', \n",
    "            password='jhyu1982.1', \n",
    "            host='prepopulation.c9k0s64g0471.eu-north-1.rds.amazonaws.com', \n",
    "            port='5432'\n",
    "        )\n",
    "        return conn\n",
    "    except Exception as e:\n",
    "        print(f\"Error connecting to the database: {e}\")\n",
    "        return None\n",
    "\n",
    "# Function to insert an artist into the database\n",
    "def insert_artist(conn, artist):\n",
    "    with conn.cursor() as cur:\n",
    "        third_image_url = artist['images'][2]['url'] if len(artist['images']) >= 3 else None\n",
    "        sql = \"\"\"\n",
    "        INSERT INTO mainartist (dateAddedToDB, dateLastModified, artistSpotifyID, artistName, artistPopularity, artistImage, artistFollowers)\n",
    "        VALUES (%s, %s, %s, %s, %s, %s, %s)\n",
    "        ON CONFLICT (artistSpotifyID) DO NOTHING;\n",
    "        \"\"\"\n",
    "        cur.execute(sql, (date.today(), date.today(), artist['id'], artist['name'], artist['popularity'], third_image_url, artist['followers']['total']))\n",
    "        conn.commit()\n",
    "\n",
    "# Main function to process the JSON file and insert data into the database\n",
    "def process_json_file(filepath):\n",
    "    conn = connect_to_db()\n",
    "    if conn is not None:\n",
    "        with open(filepath, 'r') as file:\n",
    "            data = json.load(file)\n",
    "            for key in data.keys():\n",
    "                for artist in data[key]:\n",
    "                    insert_artist(conn, artist)\n",
    "        conn.close()\n",
    "    else:\n",
    "        print(\"Failed to connect to the database.\")\n",
    "\n",
    "# Example usage\n",
    "# process_json_file('path_to_your_json_file.json')"
   ]
  },
  {
   "cell_type": "code",
   "execution_count": 19,
   "metadata": {},
   "outputs": [],
   "source": [
    "process_json_file('96kArtistInfo.json')"
   ]
  },
  {
   "cell_type": "code",
   "execution_count": null,
   "metadata": {},
   "outputs": [],
   "source": []
  }
 ],
 "metadata": {
  "kernelspec": {
   "display_name": "S2TENV",
   "language": "python",
   "name": "python3"
  },
  "language_info": {
   "codemirror_mode": {
    "name": "ipython",
    "version": 3
   },
   "file_extension": ".py",
   "mimetype": "text/x-python",
   "name": "python",
   "nbconvert_exporter": "python",
   "pygments_lexer": "ipython3",
   "version": "3.9.12"
  }
 },
 "nbformat": 4,
 "nbformat_minor": 2
}
