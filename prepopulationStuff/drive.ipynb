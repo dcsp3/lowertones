{
 "cells": [
  {
   "cell_type": "code",
   "execution_count": null,
   "metadata": {},
   "outputs": [],
   "source": [
    "1Ok-54kVJGkFfU0F8JwHZ0ZgtgJtNpmIy\n"
   ]
  },
  {
   "cell_type": "code",
   "execution_count": 2,
   "metadata": {},
   "outputs": [
    {
     "name": "stdout",
     "output_type": "stream",
     "text": [
      "Download 100%.\n",
      "File has been downloaded and saved as: test.csv\n"
     ]
    }
   ],
   "source": [
    "from google.oauth2.service_account import Credentials\n",
    "from googleapiclient.discovery import build\n",
    "from googleapiclient.http import MediaIoBaseDownload\n",
    "import io\n",
    "import os\n",
    "\n",
    "\n",
    "# The path to your service account key file\n",
    "SERVICE_ACCOUNT_FILE = '/tmp/gcloud.json'  # Or the path where you saved the credentials in your CI/CD environment\n",
    "\n",
    "# The ID of the file you want to download from Google Drive\n",
    "FILE_IDS = ['1Ok-54kVJGkFfU0F8JwHZ0ZgtgJtNpmIy', '1EL3QJpty_DwZp3ZoPx5efV4TgQwbQ60x', '1iitulF-befScIR51kQu_FZpM4Nu3Ast3', '1AJGBrXprWlDmeXOpH_cBE4gs2ZLuKwEO']\n",
    "\n",
    "\n",
    "def download_file(file_id, output_directory):\n",
    "    # Authenticate and construct service\n",
    "    credentials = Credentials.from_service_account_file(\n",
    "            SERVICE_ACCOUNT_FILE, scopes=['https://www.googleapis.com/auth/drive'])\n",
    "    service = build('drive', 'v3', credentials=credentials)\n",
    "\n",
    "    # Request to download the file\n",
    "    request = service.files().get_media(fileId=file_id)\n",
    "    fh = io.BytesIO()\n",
    "    downloader = MediaIoBaseDownload(fh, request)\n",
    "    done = False\n",
    "\n",
    "    while not done:\n",
    "        status, done = downloader.next_chunk()\n",
    "        print(f\"Download of file ID {file_id} is {int(status.progress() * 100)}% complete.\")\n",
    "\n",
    "    # Ensure the output directory exists\n",
    "    if not os.path.exists(output_directory):\n",
    "        os.makedirs(output_directory)\n",
    "\n",
    "    # Get the file name from the Drive metadata\n",
    "    file_metadata = service.files().get(fileId=file_id, fields='name').execute()\n",
    "    file_name = file_metadata.get('name', 'downloaded_file')\n",
    "\n",
    "    # Write the downloaded content to a file\n",
    "    output_file_path = os.path.join(output_directory, file_name)\n",
    "    with io.open(output_file_path, 'wb') as f:\n",
    "        fh.seek(0)\n",
    "        f.write(fh.read())\n",
    "    \n",
    "    return file_name\n",
    "\n",
    "if __name__ == '__main__':\n",
    "    output_directory = './downloaded_files'\n",
    "    for file_id in FILE_IDS:\n",
    "        file_name = download_file(file_id, output_directory)\n",
    "        print(f'File {file_name} has been downloaded and saved in {output_directory}')"
   ]
  },
  {
   "cell_type": "code",
   "execution_count": null,
   "metadata": {},
   "outputs": [],
   "source": []
  }
 ],
 "metadata": {
  "kernelspec": {
   "display_name": "S2TENV",
   "language": "python",
   "name": "python3"
  },
  "language_info": {
   "codemirror_mode": {
    "name": "ipython",
    "version": 3
   },
   "file_extension": ".py",
   "mimetype": "text/x-python",
   "name": "python",
   "nbconvert_exporter": "python",
   "pygments_lexer": "ipython3",
   "version": "3.9.18"
  }
 },
 "nbformat": 4,
 "nbformat_minor": 2
}
